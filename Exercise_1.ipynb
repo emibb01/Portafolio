{
  "cells": [
    {
      "cell_type": "markdown",
      "metadata": {
        "deletable": false,
        "editable": false,
        "etc_identifier": "373a3605-5bda-4e1f-beef-04a0173d3f41",
        "nbgrader": {
          "cell_type": "markdown",
          "checksum": "ea942292eff37b50f364f842bcdd8ad9",
          "grade": false,
          "grade_id": "cell-a839e7b47494b4c3",
          "locked": true,
          "schema_version": 3,
          "solution": false
        },
        "id": "-4O_sfryz65x"
      },
      "source": [
        "# Exercise\n",
        "\n",
        "For this assignment I'll be looking at 2017 data on immunizations from the CDC. My datafile for this assignment is in [assets/NISPUF17.csv](assets/NISPUF17.csv)."
      ]
    },
    {
      "cell_type": "markdown",
      "metadata": {
        "deletable": false,
        "editable": false,
        "hideCode": false,
        "hidePrompt": false,
        "nbgrader": {
          "cell_type": "markdown",
          "checksum": "f85bd44672080d80abd2a7f47aa0f1be",
          "grade": false,
          "grade_id": "cell-58fc2e5938733f6a",
          "locked": true,
          "schema_version": 3,
          "solution": false
        },
        "id": "ZobJBlavz653"
      },
      "source": [
        "# Question 1\n",
        "Write a function called `proportion_of_education` which returns the proportion of children in the dataset who had a mother with the education levels equal to less than high school (<12), high school (12), more than high school but not a college graduate (>12) and college degree.\n",
        "\n",
        "*This function should return a dictionary in the form of :*\n",
        "```\n",
        "    {\"less than high school\":0.2,\n",
        "    \"high school\":0.4,\n",
        "    \"more than high school but not college\":0.2,\n",
        "    \"college\":0.2}\n",
        "```"
      ]
    },
    {
      "cell_type": "code",
      "execution_count": null,
      "metadata": {
        "deletable": false,
        "nbgrader": {
          "cell_type": "code",
          "checksum": "0ac58deb3f5ac988c643e903cbee7f3a",
          "grade": false,
          "grade_id": "cell-eea16d020eb52ae7",
          "locked": false,
          "schema_version": 3,
          "solution": true
        },
        "id": "apJtLbGnz654"
      },
      "outputs": [],
      "source": [
        "def proportion_of_education():\n",
        "    import pandas as pd\n",
        "    df = pd.read_csv(\"assets/NISPUF17.csv\", index_col=0)\n",
        "    less_highschool=0\n",
        "    highschool=0\n",
        "    more_highschool=0\n",
        "    college=0\n",
        "    total=0\n",
        "    for i in df[\"EDUC1\"]:\n",
        "        if i==1:\n",
        "            less_highschool+=1\n",
        "        elif i==2:\n",
        "             highschool+=1\n",
        "        elif i==3:\n",
        "            more_highschool+=1\n",
        "        else:\n",
        "            college+=1\n",
        "    total=less_highschool+highschool+more_highschool+college\n",
        "    less_highschool_prop=less_highschool/total\n",
        "    highschool_prop=highschool/total\n",
        "    more_highschool_prop=more_highschool/total\n",
        "    college_prop=college/total\n",
        "\n",
        "    result = {\n",
        "        \"less than high school\": less_highschool_prop,\n",
        "        \"high school\": highschool_prop,\n",
        "        \"more than high school but not college\": more_highschool_prop,\n",
        "        \"college\": college_prop\n",
        "    }\n",
        "    return result\n",
        "    raise NotImplementedError()\n",
        "\n",
        ""
      ]
    },
    {
      "cell_type": "code",
      "execution_count": null,
      "metadata": {
        "id": "dEfO213mz659",
        "outputId": "1e712330-5979-40dd-be80-34c2aaf4e8eb"
      },
      "outputs": [
        {
          "data": {
            "text/plain": [
              "{'less than high school': 0.10202002459160373,\n",
              " 'high school': 0.172352011241876,\n",
              " 'more than high school but not college': 0.24588090637625154,\n",
              " 'college': 0.47974705779026877}"
            ]
          },
          "execution_count": 123,
          "metadata": {},
          "output_type": "execute_result"
        }
      ],
      "source": [
        "proportion_of_education()"
      ]
    },
    {
      "cell_type": "markdown",
      "metadata": {
        "deletable": false,
        "editable": false,
        "nbgrader": {
          "cell_type": "markdown",
          "checksum": "562b78b7b9b79580269be0a3bebf4b42",
          "grade": false,
          "grade_id": "cell-8fcbb64516283f52",
          "locked": true,
          "schema_version": 3,
          "solution": false
        },
        "id": "pnB-HQ-Tz65_"
      },
      "source": [
        "## Question 2\n",
        "\n",
        "Let's explore the relationship between being fed breastmilk as a child and getting a seasonal influenza vaccine from a healthcare provider. Return a tuple of the average number of influenza vaccines for those children we know received breastmilk as a child and those who know did not.\n",
        "\n",
        "*This function should return a tuple in the form (use the correct numbers:*\n",
        "```\n",
        "(2.5, 0.1)\n",
        "```"
      ]
    },
    {
      "cell_type": "code",
      "execution_count": null,
      "metadata": {
        "deletable": false,
        "nbgrader": {
          "cell_type": "code",
          "checksum": "a405d639063c4a6408365479f29c95c9",
          "grade": false,
          "grade_id": "cell-77f18c512324eabb",
          "locked": false,
          "schema_version": 3,
          "solution": true
        },
        "id": "OdUGBSUYz66A"
      },
      "outputs": [],
      "source": [
        "def average_influenza_doses():\n",
        "    import pandas as pd\n",
        "    df = pd.read_csv(\"assets/NISPUF17.csv\", index_col=0)\n",
        "    breast_milk_fead=df[df[\"CBF_01\"]==1]\n",
        "    non_breast_milk_fead=df[df[\"CBF_01\"]==2]\n",
        "    avg_breast_milk=breast_milk_fead[\"P_NUMFLU\"].mean()\n",
        "    avg_non_breast_milk=non_breast_milk_fead[\"P_NUMFLU\"].mean()\n",
        "    return(avg_breast_milk, avg_non_breast_milk)\n",
        "    raise NotImplementedError()"
      ]
    },
    {
      "cell_type": "code",
      "execution_count": null,
      "metadata": {
        "id": "ElMS2jz4z66D",
        "outputId": "5eff9328-25ea-4113-9dab-fcf6c7d54723"
      },
      "outputs": [
        {
          "data": {
            "text/plain": [
              "(1.8799187420058687, 1.5963945918878317)"
            ]
          },
          "execution_count": 126,
          "metadata": {},
          "output_type": "execute_result"
        }
      ],
      "source": [
        "average_influenza_doses()"
      ]
    },
    {
      "cell_type": "markdown",
      "metadata": {
        "deletable": false,
        "editable": false,
        "nbgrader": {
          "cell_type": "markdown",
          "checksum": "e10e2163f5957a0c398ef4f0b76b4efe",
          "grade": false,
          "grade_id": "cell-f63377f3c97aa7c4",
          "locked": true,
          "schema_version": 3,
          "solution": false
        },
        "id": "07HE4dTfz66H"
      },
      "source": [
        "## Question 3\n",
        "It would be interesting to see if there is any evidence of a link between vaccine effectiveness and sex of the child. Calculate the ratio of the number of children who contracted chickenpox but were vaccinated against it (at least one varicella dose) versus those who were vaccinated but did not contract chicken pox. Return results by sex.\n",
        "\n",
        "*This function should return a dictionary in the form of (use the correct numbers):*\n",
        "```\n",
        "    {\"male\":0.2,\n",
        "    \"female\":0.4}\n",
        "```\n",
        "\n",
        "Note: To aid in verification, the `chickenpox_by_sex()['female']` value the autograder is looking for starts with the digits `0.0077`."
      ]
    },
    {
      "cell_type": "code",
      "execution_count": null,
      "metadata": {
        "deletable": false,
        "nbgrader": {
          "cell_type": "code",
          "checksum": "b4d1b58acae002bc73eb0b19f95bc4af",
          "grade": false,
          "grade_id": "cell-a0a9e6fe67698006",
          "locked": false,
          "schema_version": 3,
          "solution": true
        },
        "id": "dMPU4bI_z66I"
      },
      "outputs": [],
      "source": [
        "def chickenpox_by_sex():\n",
        "    import pandas as pd\n",
        "    df = pd.read_csv(\"assets/NISPUF17.csv\", index_col=0)\n",
        "    male_chicken_pox_and_vaccine=df[(df[\"P_NUMVRC\"]>=1) & (df[\"HAD_CPOX\"]==1) & (df[\"SEX\"]==1)]\n",
        "    male_non_chicken_pox_and_vaccine=df[(df[\"P_NUMVRC\"]>=1) & (df[\"HAD_CPOX\"]==2) & (df[\"SEX\"]==1)]\n",
        "    female_chicken_pox_and_vaccine=df[(df[\"P_NUMVRC\"]>=1) & (df[\"HAD_CPOX\"]==1) & (df[\"SEX\"]==2)]\n",
        "    female_non_chicken_pox_and_vaccine=df[(df[\"P_NUMVRC\"]>=1) & (df[\"HAD_CPOX\"]==2) & (df[\"SEX\"]==2)]\n",
        "    ratio_male = len(male_chicken_pox_and_vaccine) / len(male_non_chicken_pox_and_vaccine) if len(male_non_chicken_pox_and_vaccine) > 0 else float('nan')\n",
        "    ratio_female = len(female_chicken_pox_and_vaccine) / len(female_non_chicken_pox_and_vaccine) if len(female_non_chicken_pox_and_vaccine) > 0 else float('nan')\n",
        "    return{\"male\":ratio_male,\n",
        "           \"female\":ratio_female\n",
        "    }\n",
        "    raise NotImplementedError()"
      ]
    },
    {
      "cell_type": "code",
      "execution_count": null,
      "metadata": {
        "id": "xSxvC1xNz66M",
        "outputId": "a0f9184b-e86a-4213-9e23-70de66431bfe"
      },
      "outputs": [
        {
          "data": {
            "text/plain": [
              "{'male': 0.009675583380762664, 'female': 0.0077918259335489565}"
            ]
          },
          "execution_count": 129,
          "metadata": {},
          "output_type": "execute_result"
        }
      ],
      "source": [
        "chickenpox_by_sex()"
      ]
    },
    {
      "cell_type": "markdown",
      "metadata": {
        "id": "jNppz2qZz66N"
      },
      "source": [
        "## Question 4\n",
        "A correlation is a statistical relationship between two variables. If we wanted to know if vaccines work, we might look at the correlation between the use of the vaccine and whether it results in prevention of the infection or disease [1]. In this question, you are to see if there is a correlation between having had the chicken pox and the number of chickenpox vaccine doses given (varicella).\n",
        "\n",
        "Some notes on interpreting the answer. The `had_chickenpox_column` is either `1` (for yes) or `2` (for no), and the `num_chickenpox_vaccine_column` is the number of doses a child has been given of the varicella vaccine. A positive correlation (e.g., `corr > 0`) means that an increase in `had_chickenpox_column` (which means more no’s) would also increase the values of `num_chickenpox_vaccine_column` (which means more doses of vaccine). If there is a negative correlation (e.g., `corr < 0`), it indicates that having had chickenpox is related to an increase in the number of vaccine doses.\n",
        "\n",
        "Also, `pval` is the probability that we observe a correlation between `had_chickenpox_column` and `num_chickenpox_vaccine_column` which is greater than or equal to a particular value occurred by chance. A small `pval` means that the observed correlation is highly unlikely to occur by chance. In this case, `pval` should be very small (will end in `e-18` indicating a very small number).\n",
        "\n"
      ]
    },
    {
      "cell_type": "code",
      "execution_count": null,
      "metadata": {
        "deletable": false,
        "nbgrader": {
          "cell_type": "code",
          "checksum": "3e645859949447913cd11d30eb33cb1e",
          "grade": false,
          "grade_id": "cell-8afff07f564cf79a",
          "locked": false,
          "schema_version": 3,
          "solution": true
        },
        "id": "ml-10g_Pz66P"
      },
      "outputs": [],
      "source": [
        "def corr_chickenpox():\n",
        "    import scipy.stats as stats\n",
        "    import numpy as np\n",
        "    import pandas as pd\n",
        "    df = pd.read_csv(\"assets/NISPUF17.csv\", index_col=0)\n",
        "    # this is just an example dataframe\n",
        "    #df=pd.DataFrame({\"had_chickenpox_column\":np.random.randint(1,3,size=(100)),\n",
        "                   #\"num_chickenpox_vaccine_column\":np.random.randint(0,6,size=(100))})\n",
        "\n",
        "    df=df[df['HAD_CPOX'].lt(3)].loc[:,['HAD_CPOX','P_NUMVRC']].dropna()\n",
        "    df.columns=['had_chickenpox_column','num_chickenpox_vaccine_column']\n",
        "    # here is some stub code to actually run the correlation\n",
        "    corr, pval=stats.pearsonr(df[\"had_chickenpox_column\"],df[\"num_chickenpox_vaccine_column\"])\n",
        "\n",
        "    # just return the correlation\n",
        "    return corr\n",
        "    raise NotImplementedError()\n",
        ""
      ]
    },
    {
      "cell_type": "code",
      "execution_count": null,
      "metadata": {
        "id": "jYqpvCHsz66R",
        "outputId": "4643b66c-2168-49e3-c56a-9b9f6a16450e"
      },
      "outputs": [
        {
          "data": {
            "text/plain": [
              "0.07044873460147986"
            ]
          },
          "execution_count": 132,
          "metadata": {},
          "output_type": "execute_result"
        }
      ],
      "source": [
        "corr_chickenpox()"
      ]
    },
    {
      "cell_type": "code",
      "execution_count": null,
      "metadata": {
        "id": "Qcb1P8uAz66S"
      },
      "outputs": [],
      "source": []
    },
    {
      "cell_type": "code",
      "execution_count": null,
      "metadata": {
        "id": "cqIiCjirz66T"
      },
      "outputs": [],
      "source": []
    }
  ],
  "metadata": {
    "anaconda-cloud": {},
    "etc_active_cell": 3,
    "hide_code_all_hidden": false,
    "kernelspec": {
      "display_name": "Python 3 (ipykernel)",
      "language": "python",
      "name": "python3"
    },
    "language_info": {
      "codemirror_mode": {
        "name": "ipython",
        "version": 3
      },
      "file_extension": ".py",
      "mimetype": "text/x-python",
      "name": "python",
      "nbconvert_exporter": "python",
      "pygments_lexer": "ipython3",
      "version": "3.9.13"
    },
    "toc-autonumbering": true,
    "toc-showmarkdowntxt": true,
    "colab": {
      "provenance": []
    }
  },
  "nbformat": 4,
  "nbformat_minor": 0
}